{
  "nbformat": 4,
  "nbformat_minor": 0,
  "metadata": {
    "colab": {
      "provenance": [],
      "authorship_tag": "ABX9TyOjFWqdcu4spLwVzsTY3g9d",
      "include_colab_link": true
    },
    "kernelspec": {
      "name": "python3",
      "display_name": "Python 3"
    },
    "language_info": {
      "name": "python"
    }
  },
  "cells": [
    {
      "cell_type": "markdown",
      "metadata": {
        "id": "view-in-github",
        "colab_type": "text"
      },
      "source": [
        "<a href=\"https://colab.research.google.com/github/Pillowknightr8/Practicing-ML/blob/main/HandwrittenDigitRecognition_SVM.ipynb\" target=\"_parent\"><img src=\"https://colab.research.google.com/assets/colab-badge.svg\" alt=\"Open In Colab\"/></a>"
      ]
    },
    {
      "cell_type": "code",
      "execution_count": 1,
      "metadata": {
        "id": "rFnnlYm0tK4_"
      },
      "outputs": [],
      "source": [
        "import numpy as np\n",
        "from sklearn.datasets import load_digits #load dataset from sklearn"
      ]
    },
    {
      "cell_type": "markdown",
      "source": [
        "Load Datasets"
      ],
      "metadata": {
        "id": "VuOZT-VLtoNw"
      }
    },
    {
      "cell_type": "code",
      "source": [
        "dataset = load_digits()"
      ],
      "metadata": {
        "id": "y5hrw0Hpt1Ya"
      },
      "execution_count": 2,
      "outputs": []
    },
    {
      "cell_type": "markdown",
      "source": [
        "Summarize Datasets"
      ],
      "metadata": {
        "id": "8UD2IGApt77V"
      }
    },
    {
      "cell_type": "code",
      "source": [
        "print(dataset.data)\n",
        "print(dataset.target)\n",
        "\n",
        "print(dataset.data.shape)\n",
        "print(dataset.images.shape)\n",
        "\n",
        "dataimageLength = len(dataset.images)\n",
        "print(dataimageLength)"
      ],
      "metadata": {
        "colab": {
          "base_uri": "https://localhost:8080/"
        },
        "id": "APggNhA7t-Gu",
        "outputId": "5e3f6c38-5cd8-44a9-ae3d-4f6d31b90d4b"
      },
      "execution_count": 3,
      "outputs": [
        {
          "output_type": "stream",
          "name": "stdout",
          "text": [
            "[[ 0.  0.  5. ...  0.  0.  0.]\n",
            " [ 0.  0.  0. ... 10.  0.  0.]\n",
            " [ 0.  0.  0. ... 16.  9.  0.]\n",
            " ...\n",
            " [ 0.  0.  1. ...  6.  0.  0.]\n",
            " [ 0.  0.  2. ... 12.  0.  0.]\n",
            " [ 0.  0. 10. ... 12.  1.  0.]]\n",
            "[0 1 2 ... 8 9 8]\n",
            "(1797, 64)\n",
            "(1797, 8, 8)\n",
            "1797\n"
          ]
        }
      ]
    },
    {
      "cell_type": "markdown",
      "source": [
        "Visualize the dataset"
      ],
      "metadata": {
        "id": "wNzm_L3zugNE"
      }
    },
    {
      "cell_type": "code",
      "source": [
        "n=1500 #No. of Sample out of total Samples 1797\n",
        "\n",
        "import matplotlib.pyplot as plt #data visualization\n",
        "plt.gray()\n",
        "plt.matshow(dataset.images[n])\n",
        "plt.show()\n",
        "\n",
        "dataset.images[n]"
      ],
      "metadata": {
        "colab": {
          "base_uri": "https://localhost:8080/",
          "height": 431
        },
        "id": "KH6Y3i63umxP",
        "outputId": "e991abb4-10ac-4d02-8205-8730df124de7"
      },
      "execution_count": 5,
      "outputs": [
        {
          "output_type": "display_data",
          "data": {
            "text/plain": [
              "<Figure size 432x288 with 0 Axes>"
            ]
          },
          "metadata": {}
        },
        {
          "output_type": "display_data",
          "data": {
            "text/plain": [
              "<Figure size 288x288 with 1 Axes>"
            ],
            "image/png": "[encoded data removed]"
          },
          "metadata": {
            "needs_background": "light"
          }
        },
        {
          "output_type": "execute_result",
          "data": {
            "text/plain": [
              "array([[ 0.,  0.,  0.,  3., 12., 12.,  2.,  0.],\n",
              "       [ 0.,  0.,  7., 15., 16., 16.,  0.,  0.],\n",
              "       [ 0.,  4., 15.,  9., 14., 16.,  3.,  0.],\n",
              "       [ 0.,  2.,  0.,  0., 14., 16.,  0.,  0.],\n",
              "       [ 0.,  0.,  0.,  0., 14., 16.,  0.,  0.],\n",
              "       [ 0.,  0.,  0.,  0., 15., 13.,  0.,  0.],\n",
              "       [ 0.,  0.,  0.,  0., 16., 14.,  1.,  0.],\n",
              "       [ 0.,  0.,  0.,  3., 16., 13.,  2.,  0.]])"
            ]
          },
          "metadata": {},
          "execution_count": 5
        }
      ]
    },
    {
      "cell_type": "markdown",
      "source": [
        "Segregate Dataset into X(input/independentVariable)& Y(output/dependentVariable)"
      ],
      "metadata": {
        "id": "hn3gKclsvGAt"
      }
    },
    {
      "cell_type": "code",
      "source": [
        "X = dataset.images.reshape((dataimageLength,-1))\n",
        "X"
      ],
      "metadata": {
        "colab": {
          "base_uri": "https://localhost:8080/"
        },
        "id": "pSBkbw0LvSEd",
        "outputId": "344d168e-f520-40a6-e010-b73e3f16d3de"
      },
      "execution_count": 6,
      "outputs": [
        {
          "output_type": "execute_result",
          "data": {
            "text/plain": [
              "array([[ 0.,  0.,  5., ...,  0.,  0.,  0.],\n",
              "       [ 0.,  0.,  0., ..., 10.,  0.,  0.],\n",
              "       [ 0.,  0.,  0., ..., 16.,  9.,  0.],\n",
              "       ...,\n",
              "       [ 0.,  0.,  1., ...,  6.,  0.,  0.],\n",
              "       [ 0.,  0.,  2., ..., 12.,  0.,  0.],\n",
              "       [ 0.,  0., 10., ..., 12.,  1.,  0.]])"
            ]
          },
          "metadata": {},
          "execution_count": 6
        }
      ]
    },
    {
      "cell_type": "code",
      "source": [
        "Y = dataset.target\n",
        "Y"
      ],
      "metadata": {
        "colab": {
          "base_uri": "https://localhost:8080/"
        },
        "id": "tHn7H44YwDph",
        "outputId": "2ca19b66-ceab-405e-faf5-dc460f82c8d2"
      },
      "execution_count": 7,
      "outputs": [
        {
          "output_type": "execute_result",
          "data": {
            "text/plain": [
              "array([0, 1, 2, ..., 8, 9, 8])"
            ]
          },
          "metadata": {},
          "execution_count": 7
        }
      ]
    },
    {
      "cell_type": "markdown",
      "source": [
        "Splitting Dataset into Train & Test"
      ],
      "metadata": {
        "id": "ViueCxNsxGp4"
      }
    },
    {
      "cell_type": "code",
      "source": [
        "from sklearn.model_selection import train_test_split\n",
        "X_train, X_test, Y_train, Y_test = train_test_split(X, Y, test_size = 0.25, random_state = 0)\n",
        "print(X_train.shape)\n",
        "print(X_test.shape)"
      ],
      "metadata": {
        "colab": {
          "base_uri": "https://localhost:8080/"
        },
        "id": "Br_xKm5xxLoK",
        "outputId": "1abc9d14-271b-467c-836a-96f50f75dfd0"
      },
      "execution_count": 8,
      "outputs": [
        {
          "output_type": "stream",
          "name": "stdout",
          "text": [
            "(1347, 64)\n",
            "(450, 64)\n"
          ]
        }
      ]
    },
    {
      "cell_type": "markdown",
      "source": [
        "Train"
      ],
      "metadata": {
        "id": "VZ4NPasixtW8"
      }
    },
    {
      "cell_type": "code",
      "source": [
        "from sklearn import svm\n",
        "model = svm.SVC(gamma=0.001)\n",
        "model.fit(X_train, Y_train)"
      ],
      "metadata": {
        "colab": {
          "base_uri": "https://localhost:8080/"
        },
        "id": "QhUvjD2JxvvP",
        "outputId": "0e3df9c1-549f-4ce7-a791-ff666f8f0c6a"
      },
      "execution_count": 9,
      "outputs": [
        {
          "output_type": "execute_result",
          "data": {
            "text/plain": [
              "SVC(gamma=0.001)"
            ]
          },
          "metadata": {},
          "execution_count": 9
        }
      ]
    },
    {
      "cell_type": "markdown",
      "source": [
        "Predicting, what the digit is from Test Data"
      ],
      "metadata": {
        "id": "YosnsndwyPsc"
      }
    },
    {
      "cell_type": "code",
      "source": [
        "n=1205\n",
        "result = model.predict(dataset.images[n].reshape((1,-1)))\n",
        "plt.imshow(dataset.images[n], cmap=plt.cm.gray_r, interpolation= 'nearest')\n",
        "print(result)\n",
        "print(\"/n\")\n",
        "plt.axis('off')\n",
        "plt.title('%i'%result)\n",
        "plt.show()"
      ],
      "metadata": {
        "colab": {
          "base_uri": "https://localhost:8080/",
          "height": 299
        },
        "id": "z7vVqWGlyWO9",
        "outputId": "afec41a0-fdc8-4e52-e42a-08164a2b38c9"
      },
      "execution_count": 10,
      "outputs": [
        {
          "output_type": "stream",
          "name": "stdout",
          "text": [
            "[0]\n",
            "/n\n"
          ]
        },
        {
          "output_type": "display_data",
          "data": {
            "text/plain": [
              "<Figure size 432x288 with 1 Axes>"
            ],
            "image/png": "[encoded data removed]"
          },
          "metadata": {
            "needs_background": "light"
          }
        }
      ]
    },
    {
      "cell_type": "markdown",
      "source": [
        "Prediction for Test Data"
      ],
      "metadata": {
        "id": "bM5D-aO9zCcI"
      }
    },
    {
      "cell_type": "code",
      "source": [
        "Y_pred = model.predict(X_test)\n",
        "#print(np.concatenate((Y_pred.reshape(len(Y_pred),1),Y_test.reshape(len(Y_test),1)),1))"
      ],
      "metadata": {
        "id": "x4-JaiOVzFlO"
      },
      "execution_count": 11,
      "outputs": []
    },
    {
      "cell_type": "markdown",
      "source": [
        "Evaluate Model- Accuracy Score"
      ],
      "metadata": {
        "id": "H2m9Rl2EzeFe"
      }
    },
    {
      "cell_type": "code",
      "source": [
        "from sklearn.metrics import accuracy_score\n",
        "print(\"Accuracy of the Model: {0}%\".format(accuracy_score(Y_test, Y_pred)*100))"
      ],
      "metadata": {
        "colab": {
          "base_uri": "https://localhost:8080/"
        },
        "id": "TKa6hMDjzmta",
        "outputId": "f5f10c59-f59b-45d8-9997-d6a047ba850c"
      },
      "execution_count": 12,
      "outputs": [
        {
          "output_type": "stream",
          "name": "stdout",
          "text": [
            "Accuracy of the Model: 99.55555555555556%\n"
          ]
        }
      ]
    },
    {
      "cell_type": "markdown",
      "source": [
        "Play with diffrent method"
      ],
      "metadata": {
        "id": "mKX1lW0Kz_6E"
      }
    },
    {
      "cell_type": "code",
      "source": [
        "from sklearn import svm\n",
        "model1 = svm.SVC(kernel='linear')\n",
        "model3 = svm.SVC(gamma=0.001)\n",
        "model4 = svm.SVC(gamma=0.001, C=0.1)\n",
        "\n",
        "model1.fit(X_train, Y_train)\n",
        "model3.fit(X_train, Y_train)\n",
        "model4.fit(X_train, Y_train)\n",
        "\n",
        "Y_predModel1 = model1.predict(X_test)\n",
        "Y_predModel3 = model3.predict(X_test)\n",
        "Y_predModel4 = model4.predict(X_test)\n",
        "\n",
        "print(\"Accuracy of the Model 1 : {0}%\".format(accuracy_score(Y_test, Y_predModel1)*100))\n",
        "print(\"Accuracy of the Model 3 : {0}%\".format(accuracy_score(Y_test, Y_predModel3)*100))\n",
        "print(\"Accuracy of the Model 4 : {0}%\".format(accuracy_score(Y_test, Y_predModel4)*100))"
      ],
      "metadata": {
        "colab": {
          "base_uri": "https://localhost:8080/"
        },
        "id": "eBc5KGYb0DsO",
        "outputId": "662f4bc3-4b8c-4545-fbb6-6016b86d59ab"
      },
      "execution_count": 14,
      "outputs": [
        {
          "output_type": "stream",
          "name": "stdout",
          "text": [
            "Accuracy of the Model 1 : 97.11111111111111%\n",
            "Accuracy of the Model 3 : 99.55555555555556%\n",
            "Accuracy of the Model 4 : 96.66666666666667%\n"
          ]
        }
      ]
    }
  ]
}